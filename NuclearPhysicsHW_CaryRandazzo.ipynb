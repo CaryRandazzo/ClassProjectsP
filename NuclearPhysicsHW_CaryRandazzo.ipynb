{
 "cells": [
  {
   "cell_type": "markdown",
   "metadata": {},
   "source": [
    "# HW2- CHP? - Cary Randazzo\n",
    "Problems - from document"
   ]
  },
  {
   "cell_type": "markdown",
   "metadata": {},
   "source": [
    "##### Coding Reference, Ignore:"
   ]
  },
  {
   "cell_type": "code",
   "execution_count": 100,
   "metadata": {},
   "outputs": [],
   "source": [
    "from sympy import *"
   ]
  },
  {
   "cell_type": "code",
   "execution_count": 101,
   "metadata": {},
   "outputs": [],
   "source": [
    "x = symbols('x', integer=False)"
   ]
  },
  {
   "cell_type": "code",
   "execution_count": 21,
   "metadata": {},
   "outputs": [
    {
     "data": {
      "text/latex": [
       "$\\displaystyle \\frac{1}{2}$"
      ],
      "text/plain": [
       "1/2"
      ]
     },
     "execution_count": 21,
     "metadata": {},
     "output_type": "execute_result"
    }
   ],
   "source": [
    "integrate(x,(x,0,1))"
   ]
  },
  {
   "cell_type": "code",
   "execution_count": 24,
   "metadata": {},
   "outputs": [
    {
     "data": {
      "text/latex": [
       "$\\displaystyle \\int x\\, dx$"
      ],
      "text/plain": [
       "Integral(x, x)"
      ]
     },
     "execution_count": 24,
     "metadata": {},
     "output_type": "execute_result"
    }
   ],
   "source": [
    "Integral(x,x)"
   ]
  },
  {
   "cell_type": "code",
   "execution_count": 102,
   "metadata": {},
   "outputs": [
    {
     "data": {
      "text/latex": [
       "$\\displaystyle \\frac{x^{2}}{2}$"
      ],
      "text/plain": [
       "x**2/2"
      ]
     },
     "execution_count": 102,
     "metadata": {},
     "output_type": "execute_result"
    }
   ],
   "source": [
    "Integral(x,x).doit()"
   ]
  },
  {
   "cell_type": "markdown",
   "metadata": {},
   "source": [
    "# Applications of Nuclear Physics\n",
    "## 1.  (10 points)  Mean Life of a radioactive material (Section 5.4)\n"
   ]
  },
  {
   "cell_type": "markdown",
   "metadata": {},
   "source": [
    "-   (5 points)  Write an expression for mean life of a radioactive material $<t>$ given N(t) = Noe−λt"
   ]
  },
  {
   "cell_type": "markdown",
   "metadata": {},
   "source": [
    "<b>Answer:</b>\n",
    "$<t> = \\tau = \\frac{ \\int_0^\\infty{t N(t) dt} }{ \\int_{0}^{\\infty}{N(t) dt} } = \\frac{ N_0 \\int_{0}^{\\infty}{t e^{-\\lambda t}} }{ N_0 \\int_{0}^{\\infty}t e^{-\\lambda t}} $\n",
    "<br>"
   ]
  },
  {
   "cell_type": "markdown",
   "metadata": {},
   "source": [
    "-   (5 points)  Solve the expression for mean life integral to obtain$<t>$as a function of decay constant(λ)"
   ]
  },
  {
   "cell_type": "markdown",
   "metadata": {},
   "source": [
    "<b>Answer:</b>\n",
    "<br>\n",
    "$= \\frac{\\lambda^{-2}}{\\lambda^{-1}} = \\frac{1}{\\lambda}$"
   ]
  },
  {
   "cell_type": "markdown",
   "metadata": {},
   "source": [
    "## 2.  (10 points)  \n",
    "Calculate the energy released when 1 g of $^{235}U$ fission into $^{148}La$ and $^{87}Br$ by following the steps below. You may use\n",
    "- M(235,92) = 218943.39285MeV/c2,\n",
    "- M(148,57) = 137798.658MeV/c2, and\n",
    "- M(87,35) = 80966.63205MeV/c2.  \n",
    "This reaction was discussed in the class.<br>\n",
    "<br>\n",
    "a.  (5 points)  Find the binding energies of parent and daughter nuclei using the formula for binding energy\n",
    "<br>\n",
    "- (B.E(A,Z) = ∆M(A,Z)c2)?"
   ]
  },
  {
   "cell_type": "code",
   "execution_count": 1,
   "metadata": {},
   "outputs": [],
   "source": [
    "def BE_BEpN(A,Z):\n",
    "    c = 3*10**8               #m/s\n",
    "    m_n = 938.27*10**6 #eV/c^2  #mass of neutron\n",
    "    m_p = 939.56*10**6 #eV/c^2   #mass of proton\n",
    "    #A =             #isotope / mass number\n",
    "    #Z =             #protons\n",
    "    N = A-Z          #neutrons\n",
    "    a_1 = 15.6*10**6 #eV\n",
    "    a_2 = 16.8*10**6 #eV\n",
    "    a_3 = 0.72*10**6 #eV\n",
    "    a_4 = 23.3*10**6 #eV\n",
    "    a_5 = 34.0*10**6 #eV\n",
    "    \n",
    "    BE = (-a_1*A + a_2*A**(2/3) + a_3*(Z**2/(A**(1/3)) ) + a_4*( (N-Z)**2/A ) + a_5*A**(-3/4) )\n",
    "    BEpN = -BE/A\n",
    "    \n",
    "    # eV / c**2 => [eV/(m^2/s^2)] = [g]\n",
    "#     D_plus = ( (-a_1*A + a_2*A**(2/3) + a_3*(Z**2/(A**(1/3)) ) + a_4*( (N-Z)**2/A ) + a_5*A**(-3/4) )/(c**2) + Z*m_p + (A-Z)*m_n ) / ((4/3)*np.pi * r_0**3 * A)\n",
    "#     D_minus = ( (-a_1*A + a_2*A**(2/3) + a_3*(Z**2/(A**(1/3)) ) + a_4*( (N-Z)**2/A ) - a_5*A**(-3/4) )/(c**2) + Z*m_p + (A-Z)*m_n ) / ((4/3)*np.pi * r_0**3 * A)\n",
    "    #convert the mass part of D_plus and D_minus from [eV/c**2] to [g]\n",
    "#     D_plus *= 1.78266191*10**(-33)\n",
    "#     D_minus *= 1.78266191*10**(-33)\n",
    "#     return D_plus,D_minus\n",
    "    return BE,BEpN"
   ]
  },
  {
   "cell_type": "markdown",
   "metadata": {},
   "source": [
    "fission reaction:\n",
    "$^{235} U + n \\rightarrow ^{148} La + ^{87} Br + n$"
   ]
  },
  {
   "cell_type": "code",
   "execution_count": 5,
   "metadata": {},
   "outputs": [
    {
     "name": "stdout",
     "output_type": "stream",
     "text": [
      "B.E.: -1780.246777176647 [MeV]\n"
     ]
    }
   ],
   "source": [
    "#235U92\n",
    "print('B.E.:',BE_BEpN(235,92)[0]/10**6,'[MeV]')"
   ]
  },
  {
   "cell_type": "code",
   "execution_count": 6,
   "metadata": {},
   "outputs": [
    {
     "name": "stdout",
     "output_type": "stream",
     "text": [
      "B.E.: -1213.706257770909 [MeV]\n"
     ]
    }
   ],
   "source": [
    "#148La57\n",
    "print('B.E.:',BE_BEpN(148,57)[0]/10**6,'[MeV]')"
   ]
  },
  {
   "cell_type": "code",
   "execution_count": 7,
   "metadata": {},
   "outputs": [
    {
     "name": "stdout",
     "output_type": "stream",
     "text": [
      "B.E.: -749.7033342918488 [MeV]\n"
     ]
    }
   ],
   "source": [
    "#87Br35\n",
    "print('B.E.:',BE_BEpN(87,35)[0]/10**6,'[MeV]')"
   ]
  },
  {
   "cell_type": "markdown",
   "metadata": {},
   "source": [
    "b.  (2 points)  Find the energy release per fission reaction using\n",
    "- B.E(A,Z) values for $^{235}U$,$^{148}La$ and $^{87}Br$?"
   ]
  },
  {
   "cell_type": "code",
   "execution_count": 15,
   "metadata": {},
   "outputs": [
    {
     "data": {
      "text/plain": [
       "7.57551820075169"
      ]
     },
     "execution_count": 15,
     "metadata": {},
     "output_type": "execute_result"
    }
   ],
   "source": [
    "bepn_uranium = BE_BEpN(235,92)[1]/10**6 #binding energy per nucleon of uranium 235 [MeV/nucleon]\n",
    "bepn_uranium"
   ]
  },
  {
   "cell_type": "code",
   "execution_count": 18,
   "metadata": {},
   "outputs": [
    {
     "data": {
      "text/plain": [
       "8.200717957911547"
      ]
     },
     "execution_count": 18,
     "metadata": {},
     "output_type": "execute_result"
    }
   ],
   "source": [
    "bepn_la = BE_BEpN(148,57)[1]/10**6 #[MeV/nucleon]\n",
    "bepn_la"
   ]
  },
  {
   "cell_type": "code",
   "execution_count": 19,
   "metadata": {},
   "outputs": [
    {
     "data": {
      "text/plain": [
       "8.617279704504009"
      ]
     },
     "execution_count": 19,
     "metadata": {},
     "output_type": "execute_result"
    }
   ],
   "source": [
    "bepn_br = BE_BEpN(87,35)[1]/10**6 #[MeV/nucleon]\n",
    "bepn_br"
   ]
  },
  {
   "cell_type": "code",
   "execution_count": 32,
   "metadata": {},
   "outputs": [
    {
     "data": {
      "text/plain": [
       "8.408998831207779"
      ]
     },
     "execution_count": 32,
     "metadata": {},
     "output_type": "execute_result"
    }
   ],
   "source": [
    "bepn_prods = (bepn_br+bepn_la)/2   #binding energy per nucleon of the products of the reaction\n",
    "bepn_prods"
   ]
  },
  {
   "cell_type": "code",
   "execution_count": 35,
   "metadata": {},
   "outputs": [
    {
     "data": {
      "text/plain": [
       "0.8334806304560889"
      ]
     },
     "execution_count": 35,
     "metadata": {},
     "output_type": "execute_result"
    }
   ],
   "source": [
    "#prods - reactants\n",
    "e_released_pn = bepn_prods - bepn_uranium #[MeV/nucleon] approx energy released per nucleon\n",
    "e_released_pn"
   ]
  },
  {
   "cell_type": "code",
   "execution_count": 55,
   "metadata": {},
   "outputs": [
    {
     "name": "stdout",
     "output_type": "stream",
     "text": [
      "195.86794815718088 [MeV]\n",
      "3.137804529478037e-11 [Joules]\n"
     ]
    }
   ],
   "source": [
    "#implies total energy release of...\n",
    "e_released_patom = 235 * e_released_pn  #about 196 [MeV] total energy release\n",
    "print(e_released_patom,'[MeV]')\n",
    "e_released_patom_j = e_released_patom*1.602e-13\n",
    "print(e_released_patom*1.602e-13,'[Joules]')"
   ]
  },
  {
   "cell_type": "markdown",
   "metadata": {},
   "source": [
    "c.  (3 points)  Find the energy in 1 g of $^{235}U$?"
   ]
  },
  {
   "cell_type": "markdown",
   "metadata": {},
   "source": [
    "$\\Delta E = \\Delta m c^2$\n",
    "<br>\n",
    "$\\Delta E = (1-0)\\cdot 10^{-3}[kg]\\cdot c^2[m^2/s^2]$\n",
    "<br>\n",
    "$^{235}U$ = $235[g/mol]$ ... $235[g_{U235}] = 1[mol_{U235}]$\n",
    "<br>\n",
    "Avogadros Number:$(A_0) = 6.022e23[atoms/mol]$\n",
    "<br>\n",
    "$ 1/235[mol/g] \\cdot 6.022e23[atoms/mol/g] = ...[atoms/g]$\n",
    "<br>\n",
    "$[energy_release/atom] \\cdot [atoms/g] = [energy_release/g]$for 1 gram"
   ]
  },
  {
   "cell_type": "code",
   "execution_count": 63,
   "metadata": {},
   "outputs": [
    {
     "name": "stdout",
     "output_type": "stream",
     "text": [
      "8.040791011283721 e10[Joules]\n"
     ]
    }
   ],
   "source": [
    "#energy in 1g of uranium 235\n",
    "1/235 * 6.022e23 * e_released_patom_j/10**10 #[Joules]\n",
    "print(1/235 * 6.022e23 * e_released_patom_j/10**10,'e10[Joules]')"
   ]
  },
  {
   "cell_type": "markdown",
   "metadata": {},
   "source": [
    "##  3. (10 points) \n",
    "One of the main fusion reactions scientist trying to produce in fusion reactors is<br>\n",
    "$^2H+^3H→^4He+n+ 17.6[MeV]$\n",
    "<br>\n",
    "using fusing deuterium and tritium nuclei in deuterated water (D2O) and tritiated water (T2O), respec-tively.  Calculate the total energy released in fusing deuterium and tritium nuclei in 1 g of deuteratedwater (D2O) with 1 g of tritiated water (T2O) by following the steps below\n",
    "<br>\n",
    "a. (2 points)  Find number of deuterium nuclei in 1 g of deuterated water?\n"
   ]
  },
  {
   "cell_type": "code",
   "execution_count": 71,
   "metadata": {},
   "outputs": [],
   "source": [
    "def nuc_pgram(g_per_mole,A):\n",
    "    #avos_num = 6.022e23 #[atoms/mol]\n",
    "    #mol_p_gram = 1/20.0276 #[mol/g]\n",
    "    #atom_pg = avos_num * mol_p_gram #[atoms/g]\n",
    "    #A = 2 #[nuclei/atom] heavy water has 2 unstable nuclei per atom\n",
    "    return (1/g_per_mole)*6.022e23*A #[nuclei/g]"
   ]
  },
  {
   "cell_type": "code",
   "execution_count": 73,
   "metadata": {},
   "outputs": [
    {
     "data": {
      "text/plain": [
       "6.013701092492361e+22"
      ]
     },
     "execution_count": 73,
     "metadata": {},
     "output_type": "execute_result"
    }
   ],
   "source": [
    "two_h = nuc_pgram(20.0276,2)\n",
    "two_h"
   ]
  },
  {
   "cell_type": "markdown",
   "metadata": {},
   "source": [
    "b.  (2 points)  Find number of tritium nuclei in 1 g of tritiated water?"
   ]
  },
  {
   "cell_type": "code",
   "execution_count": 74,
   "metadata": {},
   "outputs": [
    {
     "data": {
      "text/plain": [
       "9.020551638738542e+22"
      ]
     },
     "execution_count": 74,
     "metadata": {},
     "output_type": "execute_result"
    }
   ],
   "source": [
    "three_h = nuc_pgram(20.0276,3)\n",
    "three_h"
   ]
  },
  {
   "cell_type": "markdown",
   "metadata": {},
   "source": [
    "c.  (1 point)  Find the total number of fusion reactions when fusing deuterium and tritium nuclei in 1g of deuterated water (D2O) with 1 g of tritiated water (T2O)?"
   ]
  },
  {
   "cell_type": "code",
   "execution_count": 81,
   "metadata": {},
   "outputs": [
    {
     "data": {
      "text/plain": [
       "3.0068505462461813e+22"
      ]
     },
     "execution_count": 81,
     "metadata": {},
     "output_type": "execute_result"
    }
   ],
   "source": [
    "three_h-two_h"
   ]
  },
  {
   "cell_type": "markdown",
   "metadata": {},
   "source": [
    "there are about 3e22 more 3h atoms present in the reactants than 2h atoms. The reaction will occur as many times as the limiter until the 2h atoms run out. Thus it will occur two_h times"
   ]
  },
  {
   "cell_type": "code",
   "execution_count": 82,
   "metadata": {},
   "outputs": [
    {
     "data": {
      "text/plain": [
       "6.013701092492361e+22"
      ]
     },
     "execution_count": 82,
     "metadata": {},
     "output_type": "execute_result"
    }
   ],
   "source": [
    "two_h"
   ]
  },
  {
   "cell_type": "markdown",
   "metadata": {},
   "source": [
    "d.  (5 points)  Calculate  the  total  energy  released  infusing  deuterium  and  tritium  nuclei  in  1  g  ofdeuterated water (D2O) with 1 g of tritiated water (T2O)?"
   ]
  },
  {
   "cell_type": "markdown",
   "metadata": {},
   "source": [
    "the reaction occuring 6e22 times will produce 6e22$\\cdot$17.6$[MeV]$"
   ]
  },
  {
   "cell_type": "code",
   "execution_count": 84,
   "metadata": {},
   "outputs": [
    {
     "data": {
      "text/plain": [
       "1.0560000000000001e+24"
      ]
     },
     "execution_count": 84,
     "metadata": {},
     "output_type": "execute_result"
    }
   ],
   "source": [
    "6e22*17.6 #[MeV]"
   ]
  },
  {
   "cell_type": "code",
   "execution_count": 85,
   "metadata": {},
   "outputs": [
    {
     "data": {
      "text/plain": [
       "1.691712e+24"
      ]
     },
     "execution_count": 85,
     "metadata": {},
     "output_type": "execute_result"
    }
   ],
   "source": [
    "6e22*17.6*1.602 #[Joules]"
   ]
  },
  {
   "cell_type": "markdown",
   "metadata": {},
   "source": [
    "## 4. (10 points)"
   ]
  },
  {
   "cell_type": "markdown",
   "metadata": {},
   "source": [
    "A 1 g of carbon sample has an measured activity of $4(10^{−12})$Ci.  If the ratio of $\\frac{^{14}C}{^{12}C}$ nucleiin a freshly created carbon sample is $1.3(10^{−12})$ and half-life of $^{14}C$ is 5730 yr, how old is the 1 g of carbon sample?"
   ]
  },
  {
   "cell_type": "markdown",
   "metadata": {},
   "source": [
    "$A = \\lambda N_0 e^{-\\lambda t}$"
   ]
  },
  {
   "cell_type": "markdown",
   "metadata": {},
   "source": [
    "$\\lambda = \\frac{ln(2)}{t_{1/2}} = \\frac{ln(2)}{5.730(10^{3})(3.1)(10^{7})} [s^{-1}]$"
   ]
  },
  {
   "cell_type": "code",
   "execution_count": 87,
   "metadata": {},
   "outputs": [
    {
     "data": {
      "application/javascript": [
       "\n",
       "        if (window._pyforest_update_imports_cell) { window._pyforest_update_imports_cell('import numpy as np'); }\n",
       "    "
      ],
      "text/plain": [
       "<IPython.core.display.Javascript object>"
      ]
     },
     "metadata": {},
     "output_type": "display_data"
    },
    {
     "data": {
      "text/plain": [
       "3.902196591566432e-12"
      ]
     },
     "execution_count": 87,
     "metadata": {},
     "output_type": "execute_result"
    }
   ],
   "source": [
    "lam = np.log(2)/(5.73e3*3.1*10**7)\n",
    "lam"
   ]
  },
  {
   "cell_type": "markdown",
   "metadata": {},
   "source": [
    "$A = 4(10^{-12})$"
   ]
  },
  {
   "cell_type": "code",
   "execution_count": 89,
   "metadata": {},
   "outputs": [
    {
     "data": {
      "text/plain": [
       "4e-12"
      ]
     },
     "execution_count": 89,
     "metadata": {},
     "output_type": "execute_result"
    }
   ],
   "source": [
    "A = 4e-12\n",
    "A"
   ]
  },
  {
   "cell_type": "code",
   "execution_count": 92,
   "metadata": {},
   "outputs": [
    {
     "data": {
      "text/plain": [
       "1.3e-12"
      ]
     },
     "execution_count": 92,
     "metadata": {},
     "output_type": "execute_result"
    }
   ],
   "source": [
    "1.3e-12 #[14C/12C], [unstable/stable] ...this is what we are interested in"
   ]
  },
  {
   "cell_type": "markdown",
   "metadata": {},
   "source": [
    "$N_0 = \\frac{A_0\\cdot ratio}{A} = ...$"
   ]
  },
  {
   "cell_type": "code",
   "execution_count": 94,
   "metadata": {},
   "outputs": [
    {
     "data": {
      "text/plain": [
       "55918571428.57143"
      ]
     },
     "execution_count": 94,
     "metadata": {},
     "output_type": "execute_result"
    }
   ],
   "source": [
    "n_0 = (6.022e23)*1.3e-12/14\n",
    "n_0"
   ]
  },
  {
   "cell_type": "markdown",
   "metadata": {},
   "source": [
    "$\\implies \\frac{ln(\\frac{A}{\\lambda N_0})}{-\\lambda} = t$"
   ]
  },
  {
   "cell_type": "code",
   "execution_count": 98,
   "metadata": {},
   "outputs": [
    {
     "data": {
      "application/javascript": [
       "\n",
       "        if (window._pyforest_update_imports_cell) { window._pyforest_update_imports_cell('import numpy as np'); }\n",
       "    "
      ],
      "text/plain": [
       "<IPython.core.display.Javascript object>"
      ]
     },
     "metadata": {},
     "output_type": "display_data"
    },
    {
     "name": "stdout",
     "output_type": "stream",
     "text": [
      "6.335510543816789 e12 [s]\n"
     ]
    }
   ],
   "source": [
    "t = np.log(A/(lam*n_0))/(-1*lam)\n",
    "print(t/10**12,'e12 [s]') #[s]\n"
   ]
  },
  {
   "cell_type": "markdown",
   "metadata": {},
   "source": [
    "## 5. (10 points)\n",
    "If the mean time (τ) of the proton is 1033years calculate the following.\n",
    "<br>\n",
    "a.  (2 points)  Find the decay constant of proton (λ)"
   ]
  },
  {
   "cell_type": "code",
   "execution_count": 113,
   "metadata": {},
   "outputs": [],
   "source": [
    "t = symbols('t',integer=False)\n",
    "lamb = symbols('lambda',integer=True)\n",
    "e = symbols('e', integer = False)\n",
    "expr = t*exp(-lamb*t)\n",
    "expr2 = exp(-lamb*t)"
   ]
  },
  {
   "cell_type": "code",
   "execution_count": 114,
   "metadata": {},
   "outputs": [],
   "source": [
    "a = integrate(expr,(t,0,oo))\n",
    "b = integrate(expr2,(t,0,oo))"
   ]
  },
  {
   "cell_type": "code",
   "execution_count": 115,
   "metadata": {},
   "outputs": [
    {
     "data": {
      "text/latex": [
       "$\\displaystyle \\begin{cases} \\frac{1}{\\lambda^{2}} & \\text{for}\\: \\left|{\\arg{\\left(\\lambda \\right)}}\\right| < \\frac{\\pi}{2} \\\\\\int\\limits_{0}^{\\infty} t e^{- \\lambda t}\\, dt & \\text{otherwise} \\end{cases}$"
      ],
      "text/plain": [
       "Piecewise((lambda**(-2), Abs(arg(lambda)) < pi/2), (Integral(t*exp(-lambda*t), (t, 0, oo)), True))"
      ]
     },
     "execution_count": 115,
     "metadata": {},
     "output_type": "execute_result"
    }
   ],
   "source": [
    "a"
   ]
  },
  {
   "cell_type": "code",
   "execution_count": 116,
   "metadata": {},
   "outputs": [
    {
     "data": {
      "text/latex": [
       "$\\displaystyle \\begin{cases} \\frac{1}{\\lambda} & \\text{for}\\: \\left|{\\arg{\\left(\\lambda \\right)}}\\right| < \\frac{\\pi}{2} \\\\\\int\\limits_{0}^{\\infty} e^{- \\lambda t}\\, dt & \\text{otherwise} \\end{cases}$"
      ],
      "text/plain": [
       "Piecewise((1/lambda, Abs(arg(lambda)) < pi/2), (Integral(exp(-lambda*t), (t, 0, oo)), True))"
      ]
     },
     "execution_count": 116,
     "metadata": {},
     "output_type": "execute_result"
    }
   ],
   "source": [
    "b"
   ]
  },
  {
   "cell_type": "markdown",
   "metadata": {},
   "source": [
    "if tau is $10^{33}$..."
   ]
  },
  {
   "cell_type": "markdown",
   "metadata": {},
   "source": [
    "$\\implies \\tau = 10^{33}[yr] = (10^{33})(10^3)(3.1)(10^7)[s] = \\frac{(\\lambda^{-2})}{(\\lambda^{-1})} = \\frac{\\lambda}{\\lambda^2} = \\frac{1}{\\lambda}$\n",
    "<br>\n",
    "$\\implies \\lambda = \\frac{1}{(10^{33})(10^3)(3.1)(10^7)[s]} = ...$"
   ]
  },
  {
   "cell_type": "code",
   "execution_count": 120,
   "metadata": {},
   "outputs": [
    {
     "data": {
      "text/plain": [
       "3.2258064516129037e-41"
      ]
     },
     "execution_count": 120,
     "metadata": {},
     "output_type": "execute_result"
    }
   ],
   "source": [
    "lambd = 1/(10**33*3.1e7)\n",
    "lambd"
   ]
  },
  {
   "cell_type": "markdown",
   "metadata": {},
   "source": [
    "b.  (3 points)  Find the initial activityA(t= 0) of proton decay in 103metric tons of water?"
   ]
  },
  {
   "cell_type": "markdown",
   "metadata": {},
   "source": [
    "$A(t=0) = \\lambda N_0$\n",
    "<br>\n",
    "$N_0 = \\frac{A_0}{A} = \\frac{6.022e23}{1}$ where A is protons+neutrons = 1+0\n",
    "<br>\n",
    "$\\implies A(t=0) = ...$"
   ]
  },
  {
   "cell_type": "code",
   "execution_count": 121,
   "metadata": {},
   "outputs": [
    {
     "data": {
      "text/plain": [
       "6.022e+23"
      ]
     },
     "execution_count": 121,
     "metadata": {},
     "output_type": "execute_result"
    }
   ],
   "source": [
    "no = 6.022e23\n",
    "no"
   ]
  },
  {
   "cell_type": "code",
   "execution_count": 123,
   "metadata": {},
   "outputs": [
    {
     "data": {
      "text/plain": [
       "1.9425806451612906e-17"
      ]
     },
     "execution_count": 123,
     "metadata": {},
     "output_type": "execute_result"
    }
   ],
   "source": [
    "ato = lambd*no\n",
    "ato #disintegrations/sec"
   ]
  },
  {
   "cell_type": "markdown",
   "metadata": {},
   "source": [
    "c.  (5 points)  Find the activityA(t) in the year 2050 for the same sample of water?"
   ]
  },
  {
   "cell_type": "markdown",
   "metadata": {},
   "source": [
    "$A(t) = A(0)e^{-\\lambda t}$"
   ]
  },
  {
   "cell_type": "markdown",
   "metadata": {},
   "source": [
    "The current year is 2021, ..so 2050-2021=.."
   ]
  },
  {
   "cell_type": "code",
   "execution_count": 131,
   "metadata": {},
   "outputs": [
    {
     "data": {
      "text/plain": [
       "29"
      ]
     },
     "execution_count": 131,
     "metadata": {},
     "output_type": "execute_result"
    }
   ],
   "source": [
    "t = 2050-2021\n",
    "t #[yrs]"
   ]
  },
  {
   "cell_type": "markdown",
   "metadata": {},
   "source": [
    "$t = 2.9(10^1)(3.1e7)[s]$"
   ]
  },
  {
   "cell_type": "code",
   "execution_count": 137,
   "metadata": {},
   "outputs": [
    {
     "data": {
      "text/plain": [
       "8.99"
      ]
     },
     "execution_count": 137,
     "metadata": {},
     "output_type": "execute_result"
    }
   ],
   "source": [
    "t = ((2050-2021)/10)*10*3.1e7 /10**8\n",
    "t"
   ]
  },
  {
   "cell_type": "code",
   "execution_count": 138,
   "metadata": {},
   "outputs": [],
   "source": [
    "def activity(ato,lambd,t):\n",
    "    return ato*np.exp(-lambd*t)"
   ]
  },
  {
   "cell_type": "code",
   "execution_count": 140,
   "metadata": {},
   "outputs": [
    {
     "data": {
      "application/javascript": [
       "\n",
       "        if (window._pyforest_update_imports_cell) { window._pyforest_update_imports_cell('import numpy as np'); }\n",
       "    "
      ],
      "text/plain": [
       "<IPython.core.display.Javascript object>"
      ]
     },
     "metadata": {},
     "output_type": "display_data"
    },
    {
     "data": {
      "text/plain": [
       "1.9425806451612906e-17"
      ]
     },
     "execution_count": 140,
     "metadata": {},
     "output_type": "execute_result"
    }
   ],
   "source": [
    "activity(ato,lambd,t) #[disintegrations/s]"
   ]
  }
 ],
 "metadata": {
  "kernelspec": {
   "display_name": "myenv",
   "language": "python",
   "name": "myenv"
  },
  "language_info": {
   "codemirror_mode": {
    "name": "ipython",
    "version": 3
   },
   "file_extension": ".py",
   "mimetype": "text/x-python",
   "name": "python",
   "nbconvert_exporter": "python",
   "pygments_lexer": "ipython3",
   "version": "3.6.9"
  }
 },
 "nbformat": 4,
 "nbformat_minor": 4
}
